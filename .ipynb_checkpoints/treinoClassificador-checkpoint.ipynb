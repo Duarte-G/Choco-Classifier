{
 "cells": [
  {
   "cell_type": "code",
   "execution_count": 122,
   "id": "9bcc515c-c7c8-46d3-ae8e-1a36ff271bef",
   "metadata": {},
   "outputs": [
    {
     "name": "stdout",
     "output_type": "stream",
     "text": [
      "Bibliotecas importadas com sucesso!\n"
     ]
    }
   ],
   "source": [
    "# Importações e configurações\n",
    "import os\n",
    "import numpy as np\n",
    "import pandas as pd\n",
    "from pathlib import Path\n",
    "import cv2\n",
    "from sklearn.ensemble import RandomForestClassifier\n",
    "from sklearn.model_selection import train_test_split\n",
    "from sklearn.metrics import classification_report, confusion_matrix, accuracy_score\n",
    "from sklearn.preprocessing import LabelEncoder\n",
    "import matplotlib.pyplot as plt\n",
    "import seaborn as sns\n",
    "from tqdm import tqdm\n",
    "import pickle\n",
    "import warnings\n",
    "warnings.filterwarnings('ignore')\n",
    "\n",
    "# Configuração dos diretórios\n",
    "AUG_DIR = Path(\"dataset_aug\")\n",
    "SEGM_DIR = Path(\"dataset_segm\")\n",
    "BBOX_CSV = SEGM_DIR / \"bboxes.csv\"\n",
    "\n",
    "print(\"Bibliotecas importadas com sucesso!\")"
   ]
  },
  {
   "cell_type": "code",
   "execution_count": 123,
   "id": "56c824e9-5268-4dc6-bf61-5beb13d32c4d",
   "metadata": {},
   "outputs": [
    {
     "name": "stdout",
     "output_type": "stream",
     "text": [
      "Classe FeatureExtractor criada com sucesso!\n"
     ]
    }
   ],
   "source": [
    "# Classe para extração de features\n",
    "class FeatureExtractor:\n",
    "    def __init__(self, image_size=(128, 128)):\n",
    "        self.image_size = image_size\n",
    "    \n",
    "    def extract_color_features(self, image):\n",
    "        \"\"\"Extrai features de cor da imagem\"\"\"\n",
    "        # Converter para diferentes espaços de cor\n",
    "        hsv = cv2.cvtColor(image, cv2.COLOR_BGR2HSV)\n",
    "        lab = cv2.cvtColor(image, cv2.COLOR_BGR2LAB)\n",
    "        \n",
    "        features = []\n",
    "        \n",
    "        # Estatísticas de cor para cada canal BGR\n",
    "        for i in range(3):\n",
    "            features.extend([\n",
    "                np.mean(image[:, :, i]),\n",
    "                np.std(image[:, :, i]),\n",
    "                np.median(image[:, :, i]),\n",
    "                np.min(image[:, :, i]),\n",
    "                np.max(image[:, :, i])\n",
    "            ])\n",
    "        \n",
    "        # Estatísticas de cor para HSV\n",
    "        for i in range(3):\n",
    "            features.extend([\n",
    "                np.mean(hsv[:, :, i]),\n",
    "                np.std(hsv[:, :, i])\n",
    "            ])\n",
    "        \n",
    "        # Estatísticas de cor para LAB\n",
    "        for i in range(3):\n",
    "            features.extend([\n",
    "                np.mean(lab[:, :, i]),\n",
    "                np.std(lab[:, :, i])\n",
    "            ])\n",
    "        \n",
    "        return features\n",
    "    \n",
    "    def extract_texture_features(self, image):\n",
    "        \"\"\"Extrai features de textura usando filtros de Gabor e LBP\"\"\"\n",
    "        gray = cv2.cvtColor(image, cv2.COLOR_BGR2GRAY)\n",
    "        \n",
    "        features = []\n",
    "        \n",
    "        # Filtros de Gabor\n",
    "        angles = [0, 45, 90, 135]\n",
    "        for angle in angles:\n",
    "            kernel = cv2.getGaborKernel((21, 21), 5, np.radians(angle), 2*np.pi/3, 0.5, 0, ktype=cv2.CV_32F)\n",
    "            filtered = cv2.filter2D(gray, cv2.CV_8UC3, kernel)\n",
    "            features.extend([\n",
    "                np.mean(filtered),\n",
    "                np.std(filtered)\n",
    "            ])\n",
    "        \n",
    "        # Gradientes\n",
    "        sobelx = cv2.Sobel(gray, cv2.CV_64F, 1, 0, ksize=3)\n",
    "        sobely = cv2.Sobel(gray, cv2.CV_64F, 0, 1, ksize=3)\n",
    "        \n",
    "        features.extend([\n",
    "            np.mean(np.abs(sobelx)),\n",
    "            np.std(np.abs(sobelx)),\n",
    "            np.mean(np.abs(sobely)),\n",
    "            np.std(np.abs(sobely))\n",
    "        ])\n",
    "        \n",
    "        return features\n",
    "    \n",
    "    def extract_shape_features(self, image):\n",
    "        \"\"\"Extrai features de forma\"\"\"\n",
    "        gray = cv2.cvtColor(image, cv2.COLOR_BGR2GRAY)\n",
    "        \n",
    "        # Encontrar contornos\n",
    "        contours, _ = cv2.findContours(gray, cv2.RETR_EXTERNAL, cv2.CHAIN_APPROX_SIMPLE)\n",
    "        \n",
    "        if len(contours) > 0:\n",
    "            # Pegar o maior contorno\n",
    "            largest_contour = max(contours, key=cv2.contourArea)\n",
    "            \n",
    "            # Calcular features de forma\n",
    "            area = cv2.contourArea(largest_contour)\n",
    "            perimeter = cv2.arcLength(largest_contour, True)\n",
    "            \n",
    "            # Evitar divisão por zero\n",
    "            if perimeter > 0:\n",
    "                circularity = 4 * np.pi * area / (perimeter ** 2)\n",
    "            else:\n",
    "                circularity = 0\n",
    "            \n",
    "            # Bounding rectangle\n",
    "            x, y, w, h = cv2.boundingRect(largest_contour)\n",
    "            aspect_ratio = w / h if h > 0 else 0\n",
    "            \n",
    "            # Convex hull\n",
    "            hull = cv2.convexHull(largest_contour)\n",
    "            hull_area = cv2.contourArea(hull)\n",
    "            solidity = area / hull_area if hull_area > 0 else 0\n",
    "            \n",
    "            return [area, perimeter, circularity, aspect_ratio, solidity]\n",
    "        else:\n",
    "            return [0, 0, 0, 0, 0]\n",
    "    \n",
    "    def extract_features(self, image_path):\n",
    "        \"\"\"Extrai todas as features de uma imagem\"\"\"\n",
    "        image = cv2.imread(str(image_path))\n",
    "        if image is None:\n",
    "            return None\n",
    "        \n",
    "        # Redimensionar imagem\n",
    "        image = cv2.resize(image, self.image_size)\n",
    "        \n",
    "        # Extrair diferentes tipos de features\n",
    "        color_features = self.extract_color_features(image)\n",
    "        texture_features = self.extract_texture_features(image)\n",
    "        shape_features = self.extract_shape_features(image)\n",
    "        \n",
    "        # Combinar todas as features\n",
    "        all_features = color_features + texture_features + shape_features\n",
    "        \n",
    "        return np.array(all_features)\n",
    "\n",
    "print(\"Classe FeatureExtractor criada com sucesso!\")"
   ]
  },
  {
   "cell_type": "code",
   "execution_count": 124,
   "id": "936c9439-43f6-43b1-95cd-e358786f396d",
   "metadata": {},
   "outputs": [
    {
     "name": "stdout",
     "output_type": "stream",
     "text": [
      "Função load_dataset criada com sucesso!\n"
     ]
    }
   ],
   "source": [
    "# Função para carregar dataset\n",
    "def load_dataset(dataset_path):\n",
    "    \"\"\"Carrega o dataset e extrai features\"\"\"\n",
    "    feature_extractor = FeatureExtractor()\n",
    "    \n",
    "    features = []\n",
    "    labels = []\n",
    "    image_paths = []\n",
    "    \n",
    "    dataset_path = Path(dataset_path)\n",
    "    \n",
    "    # Listar todos os subdiretórios (classes de bombons)\n",
    "    bombom_classes = [d for d in dataset_path.iterdir() if d.is_dir()]\n",
    "    \n",
    "    print(f\"Classes encontradas: {[d.name for d in bombom_classes]}\")\n",
    "    \n",
    "    for bombom_class in bombom_classes:\n",
    "        class_name = bombom_class.name\n",
    "        print(f\"Processando classe: {class_name}\")\n",
    "        \n",
    "        # Listar todas as imagens da classe\n",
    "        image_files = []\n",
    "        for ext in ['*.jpg', '*.jpeg', '*.png', '*.bmp']:\n",
    "            image_files.extend(list(bombom_class.glob(ext)))\n",
    "        \n",
    "        print(f\"  Encontradas {len(image_files)} imagens\")\n",
    "        \n",
    "        for image_path in tqdm(image_files, desc=f\"Extraindo features de {class_name}\"):\n",
    "            # Extrair features\n",
    "            feature_vector = feature_extractor.extract_features(image_path)\n",
    "            \n",
    "            if feature_vector is not None:\n",
    "                features.append(feature_vector)\n",
    "                labels.append(class_name)\n",
    "                image_paths.append(str(image_path))\n",
    "    \n",
    "    return np.array(features), np.array(labels), image_paths\n",
    "\n",
    "print(\"Função load_dataset criada com sucesso!\")"
   ]
  },
  {
   "cell_type": "code",
   "execution_count": 125,
   "id": "3af8d3c0-81fd-4cbb-9242-77b97965f5a8",
   "metadata": {},
   "outputs": [
    {
     "name": "stdout",
     "output_type": "stream",
     "text": [
      "Classes encontradas: ['alpino', 'amor_carioca', 'charge', 'chokito', 'galak', 'lollo', 'negresco', 'prestigio', 'sensacao', 'smash']\n",
      "Processando classe: alpino\n",
      "  Encontradas 112 imagens\n"
     ]
    },
    {
     "name": "stderr",
     "output_type": "stream",
     "text": [
      "Extraindo features de alpino: 100%|█████████████████████████████████████████████████| 112/112 [00:00<00:00, 306.91it/s]\n"
     ]
    },
    {
     "name": "stdout",
     "output_type": "stream",
     "text": [
      "Processando classe: amor_carioca\n",
      "  Encontradas 112 imagens\n"
     ]
    },
    {
     "name": "stderr",
     "output_type": "stream",
     "text": [
      "Extraindo features de amor_carioca: 100%|███████████████████████████████████████████| 112/112 [00:00<00:00, 316.26it/s]\n"
     ]
    },
    {
     "name": "stdout",
     "output_type": "stream",
     "text": [
      "Processando classe: charge\n",
      "  Encontradas 112 imagens\n"
     ]
    },
    {
     "name": "stderr",
     "output_type": "stream",
     "text": [
      "Extraindo features de charge: 100%|█████████████████████████████████████████████████| 112/112 [00:00<00:00, 318.41it/s]\n"
     ]
    },
    {
     "name": "stdout",
     "output_type": "stream",
     "text": [
      "Processando classe: chokito\n",
      "  Encontradas 112 imagens\n"
     ]
    },
    {
     "name": "stderr",
     "output_type": "stream",
     "text": [
      "Extraindo features de chokito: 100%|████████████████████████████████████████████████| 112/112 [00:00<00:00, 311.90it/s]\n"
     ]
    },
    {
     "name": "stdout",
     "output_type": "stream",
     "text": [
      "Processando classe: galak\n",
      "  Encontradas 112 imagens\n"
     ]
    },
    {
     "name": "stderr",
     "output_type": "stream",
     "text": [
      "Extraindo features de galak: 100%|██████████████████████████████████████████████████| 112/112 [00:00<00:00, 322.87it/s]\n"
     ]
    },
    {
     "name": "stdout",
     "output_type": "stream",
     "text": [
      "Processando classe: lollo\n",
      "  Encontradas 112 imagens\n"
     ]
    },
    {
     "name": "stderr",
     "output_type": "stream",
     "text": [
      "Extraindo features de lollo: 100%|██████████████████████████████████████████████████| 112/112 [00:00<00:00, 315.84it/s]\n"
     ]
    },
    {
     "name": "stdout",
     "output_type": "stream",
     "text": [
      "Processando classe: negresco\n",
      "  Encontradas 112 imagens\n"
     ]
    },
    {
     "name": "stderr",
     "output_type": "stream",
     "text": [
      "Extraindo features de negresco: 100%|███████████████████████████████████████████████| 112/112 [00:00<00:00, 318.55it/s]\n"
     ]
    },
    {
     "name": "stdout",
     "output_type": "stream",
     "text": [
      "Processando classe: prestigio\n",
      "  Encontradas 112 imagens\n"
     ]
    },
    {
     "name": "stderr",
     "output_type": "stream",
     "text": [
      "Extraindo features de prestigio: 100%|██████████████████████████████████████████████| 112/112 [00:00<00:00, 317.09it/s]\n"
     ]
    },
    {
     "name": "stdout",
     "output_type": "stream",
     "text": [
      "Processando classe: sensacao\n",
      "  Encontradas 112 imagens\n"
     ]
    },
    {
     "name": "stderr",
     "output_type": "stream",
     "text": [
      "Extraindo features de sensacao: 100%|███████████████████████████████████████████████| 112/112 [00:00<00:00, 329.46it/s]\n"
     ]
    },
    {
     "name": "stdout",
     "output_type": "stream",
     "text": [
      "Processando classe: smash\n",
      "  Encontradas 112 imagens\n"
     ]
    },
    {
     "name": "stderr",
     "output_type": "stream",
     "text": [
      "Extraindo features de smash: 100%|██████████████████████████████████████████████████| 112/112 [00:00<00:00, 323.42it/s]"
     ]
    },
    {
     "name": "stdout",
     "output_type": "stream",
     "text": [
      "Total de imagens processadas: 1120\n",
      "Dimensão do vetor de features: 44\n",
      "Classes únicas: ['alpino' 'amor_carioca' 'charge' 'chokito' 'galak' 'lollo' 'negresco'\n",
      " 'prestigio' 'sensacao' 'smash']\n",
      "Mapeamento de classes:\n",
      "  alpino: 0\n",
      "  amor_carioca: 1\n",
      "  charge: 2\n",
      "  chokito: 3\n",
      "  galak: 4\n",
      "  lollo: 5\n",
      "  negresco: 6\n",
      "  prestigio: 7\n",
      "  sensacao: 8\n",
      "  smash: 9\n"
     ]
    },
    {
     "name": "stderr",
     "output_type": "stream",
     "text": [
      "\n"
     ]
    }
   ],
   "source": [
    "# Carregar e preparar dados\n",
    "features, labels, image_paths = load_dataset(AUG_DIR)\n",
    "\n",
    "print(f\"Total de imagens processadas: {len(features)}\")\n",
    "print(f\"Dimensão do vetor de features: {features.shape[1]}\")\n",
    "print(f\"Classes únicas: {np.unique(labels)}\")\n",
    "\n",
    "# Codificar labels\n",
    "label_encoder = LabelEncoder()\n",
    "encoded_labels = label_encoder.fit_transform(labels)\n",
    "\n",
    "print(f\"Mapeamento de classes:\")\n",
    "for i, class_name in enumerate(label_encoder.classes_):\n",
    "    print(f\"  {class_name}: {i}\")"
   ]
  },
  {
   "cell_type": "code",
   "execution_count": 126,
   "id": "7c0e1447-396c-4919-a25e-39773313fed2",
   "metadata": {},
   "outputs": [
    {
     "name": "stdout",
     "output_type": "stream",
     "text": [
      "Tamanho do conjunto de treino: 896 (80.0%)\n",
      "Tamanho do conjunto de validação: 112 (10.0%)\n",
      "Tamanho do conjunto de teste: 112 (10.0%)\n"
     ]
    }
   ],
   "source": [
    "# Dividir dados em treino, validação e teste (80, 10, 10)\n",
    "X_train, X_temp, y_train, y_temp = train_test_split(\n",
    "    features, encoded_labels, test_size=0.2, random_state=42, stratify=encoded_labels\n",
    ")\n",
    "\n",
    "X_val, X_test, y_val, y_test = train_test_split(\n",
    "    X_temp, y_temp, test_size=0.5, random_state=42, stratify=y_temp\n",
    ")\n",
    "\n",
    "print(f\"Tamanho do conjunto de treino: {len(X_train)} ({len(X_train)/len(features)*100:.1f}%)\")\n",
    "print(f\"Tamanho do conjunto de validação: {len(X_val)} ({len(X_val)/len(features)*100:.1f}%)\")\n",
    "print(f\"Tamanho do conjunto de teste: {len(X_test)} ({len(X_test)/len(features)*100:.1f}%)\")"
   ]
  },
  {
   "cell_type": "code",
   "execution_count": 127,
   "id": "6d0d012f-48ad-46d1-a624-37fe6416d39f",
   "metadata": {},
   "outputs": [
    {
     "name": "stdout",
     "output_type": "stream",
     "text": [
      "Modelo treinado com sucesso!\n"
     ]
    }
   ],
   "source": [
    "# Treinar modelo Random Forest\n",
    "rf_model = RandomForestClassifier(\n",
    "    n_estimators=100,\n",
    "    max_depth=10,\n",
    "    min_samples_split=5,\n",
    "    min_samples_leaf=2,\n",
    "    random_state=42,\n",
    "    n_jobs=-1\n",
    ")\n",
    "\n",
    "rf_model.fit(X_train, y_train)\n",
    "\n",
    "print(\"Modelo treinado com sucesso!\")"
   ]
  },
  {
   "cell_type": "code",
   "execution_count": 128,
   "id": "4f17945d-a25d-40d1-b62c-bcf3a594f49b",
   "metadata": {},
   "outputs": [
    {
     "name": "stdout",
     "output_type": "stream",
     "text": [
      "Acurácia de treino: 0.992\n",
      "Acurácia de validação: 0.866\n",
      "Acurácia de teste: 0.777\n",
      "\n",
      "Relatório de classificação (conjunto de teste):\n",
      "              precision    recall  f1-score   support\n",
      "\n",
      "      alpino       1.00      0.82      0.90        11\n",
      "amor_carioca       0.70      0.64      0.67        11\n",
      "      charge       0.79      1.00      0.88        11\n",
      "     chokito       0.67      0.67      0.67        12\n",
      "       galak       0.77      0.91      0.83        11\n",
      "       lollo       0.82      0.82      0.82        11\n",
      "    negresco       1.00      0.58      0.74        12\n",
      "   prestigio       0.67      0.73      0.70        11\n",
      "    sensacao       0.71      0.91      0.80        11\n",
      "       smash       0.80      0.73      0.76        11\n",
      "\n",
      "    accuracy                           0.78       112\n",
      "   macro avg       0.79      0.78      0.78       112\n",
      "weighted avg       0.79      0.78      0.77       112\n",
      "\n"
     ]
    }
   ],
   "source": [
    "# Avaliar modelo\n",
    "\n",
    "# Predições\n",
    "y_train_pred = rf_model.predict(X_train)\n",
    "y_val_pred = rf_model.predict(X_val)\n",
    "y_test_pred = rf_model.predict(X_test)\n",
    "\n",
    "# Calcular acurácias\n",
    "train_accuracy = accuracy_score(y_train, y_train_pred)\n",
    "val_accuracy = accuracy_score(y_val, y_val_pred)\n",
    "test_accuracy = accuracy_score(y_test, y_test_pred)\n",
    "\n",
    "print(f\"Acurácia de treino: {train_accuracy:.3f}\")\n",
    "print(f\"Acurácia de validação: {val_accuracy:.3f}\")\n",
    "print(f\"Acurácia de teste: {test_accuracy:.3f}\")\n",
    "\n",
    "# Relatório de classificação\n",
    "print(\"\\nRelatório de classificação (conjunto de teste):\")\n",
    "print(classification_report(y_test, y_test_pred, target_names=label_encoder.classes_))"
   ]
  },
  {
   "cell_type": "code",
   "execution_count": 129,
   "id": "6c140d06-59b4-4483-baa7-215a7a685ba3",
   "metadata": {},
   "outputs": [
    {
     "data": {
      "image/png": "[encoded data removed]",
      "text/plain": [
       "<Figure size 1000x800 with 2 Axes>"
      ]
     },
     "metadata": {},
     "output_type": "display_data"
    },
    {
     "data": {
      "image/png": "[encoded data removed]",
      "text/plain": [
       "<Figure size 1200x600 with 1 Axes>"
      ]
     },
     "metadata": {},
     "output_type": "display_data"
    }
   ],
   "source": [
    "# Matriz de confusão\n",
    "plt.figure(figsize=(10, 8))\n",
    "cm = confusion_matrix(y_test, y_test_pred)\n",
    "sns.heatmap(cm, annot=True, fmt='d', cmap='Blues', \n",
    "            xticklabels=label_encoder.classes_, \n",
    "            yticklabels=label_encoder.classes_)\n",
    "plt.title('Matriz de Confusão')\n",
    "plt.xlabel('Predito')\n",
    "plt.ylabel('Real')\n",
    "plt.show()\n",
    "\n",
    "# Importância das features\n",
    "feature_importance = rf_model.feature_importances_\n",
    "plt.figure(figsize=(12, 6))\n",
    "plt.bar(range(len(feature_importance)), feature_importance)\n",
    "plt.title('Importância das Features')\n",
    "plt.xlabel('Índice da Feature')\n",
    "plt.ylabel('Importância')\n",
    "plt.show()\n"
   ]
  },
  {
   "cell_type": "code",
   "execution_count": 130,
   "id": "f03892cd-e532-4a75-809f-b5010b541640",
   "metadata": {},
   "outputs": [
    {
     "name": "stdout",
     "output_type": "stream",
     "text": [
      "Modelo salvo com sucesso!\n"
     ]
    }
   ],
   "source": [
    "# Salvar modelo e label encoder\n",
    "with open('bombom_classifier.pkl', 'wb') as f:\n",
    "    pickle.dump(rf_model, f)\n",
    "\n",
    "with open('label_encoder.pkl', 'wb') as f:\n",
    "    pickle.dump(label_encoder, f)\n",
    "\n",
    "with open('feature_extractor.pkl', 'wb') as f:\n",
    "    pickle.dump(FeatureExtractor(), f)\n",
    "\n",
    "print(\"Modelo salvo com sucesso!\")"
   ]
  },
  {
   "cell_type": "code",
   "execution_count": 131,
   "id": "c3206885-9eb1-4223-bae0-561a8ccd10eb",
   "metadata": {},
   "outputs": [
    {
     "name": "stdout",
     "output_type": "stream",
     "text": [
      "Funções de teste criadas com sucesso!\n"
     ]
    }
   ],
   "source": [
    "# Função para testar com nova imagem\n",
    "def predict_bombom(image_path, model, label_encoder, feature_extractor):\n",
    "    \"\"\"Prediz a classe de um bombom em uma nova imagem\"\"\"\n",
    "    \n",
    "    # Extrair features da imagem\n",
    "    features = feature_extractor.extract_features(image_path)\n",
    "    \n",
    "    if features is None:\n",
    "        return None, None\n",
    "    \n",
    "    # Fazer predição\n",
    "    features = features.reshape(1, -1)\n",
    "    prediction = model.predict(features)[0]\n",
    "    probabilities = model.predict_proba(features)[0]\n",
    "    \n",
    "    # Converter para nome da classe\n",
    "    class_name = label_encoder.inverse_transform([prediction])[0]\n",
    "    confidence = probabilities[prediction]\n",
    "    \n",
    "    return class_name, confidence\n",
    "\n",
    "# Exemplo de uso para testar\n",
    "def test_image(image_path):\n",
    "    \"\"\"Testa uma imagem e mostra o resultado\"\"\"\n",
    "    \n",
    "    # Carregar modelo (se necessário)\n",
    "    # with open('bombom_classifier.pkl', 'rb') as f:\n",
    "    #     model = pickle.load(f)\n",
    "    # with open('label_encoder.pkl', 'rb') as f:\n",
    "    #     label_encoder = pickle.load(f)\n",
    "    # with open('feature_extractor.pkl', 'rb') as f:\n",
    "    #     feature_extractor = pickle.load(f)\n",
    "    \n",
    "    # Usar modelos já carregados\n",
    "    model = rf_model\n",
    "    encoder = label_encoder\n",
    "    extractor = FeatureExtractor()\n",
    "    \n",
    "    # Fazer predição\n",
    "    predicted_class, confidence = predict_bombom(image_path, model, encoder, extractor)\n",
    "    \n",
    "    if predicted_class is not None:\n",
    "        print(f\"Imagem: {image_path}\")\n",
    "        print(f\"Predição: {predicted_class}\")\n",
    "        print(f\"Confiança: {confidence:.3f}\")\n",
    "        \n",
    "        # Mostrar a imagem\n",
    "        image = cv2.imread(str(image_path))\n",
    "        if image is not None:\n",
    "            image_rgb = cv2.cvtColor(image, cv2.COLOR_BGR2RGB)\n",
    "            plt.figure(figsize=(6, 6))\n",
    "            plt.imshow(image_rgb)\n",
    "            plt.title(f\"Predição: {predicted_class} (Confiança: {confidence:.3f})\")\n",
    "            plt.axis('off')\n",
    "            plt.show()\n",
    "    else:\n",
    "        print(f\"Erro ao processar a imagem: {image_path}\")\n",
    "\n",
    "print(\"Funções de teste criadas com sucesso!\")"
   ]
  },
  {
   "cell_type": "code",
   "execution_count": 142,
   "id": "1b010365-88e5-4abe-b2e4-2ec055517ada",
   "metadata": {},
   "outputs": [
    {
     "name": "stdout",
     "output_type": "stream",
     "text": [
      "Processando 8 imagens...\n",
      "\n",
      "==================================================\n",
      "Imagem: alpinoBranco.png\n",
      "Top 3 predições:\n",
      "  1º: alpino (Confiança: 0.502)\n",
      "  2º: chokito (Confiança: 0.151)\n",
      "  3º: smash (Confiança: 0.096)\n",
      "\n",
      "==================================================\n",
      "Imagem: amorcariocaBranco.png\n",
      "Top 3 predições:\n",
      "  1º: amor_carioca (Confiança: 0.620)\n",
      "  2º: smash (Confiança: 0.129)\n",
      "  3º: chokito (Confiança: 0.085)\n",
      "\n",
      "==================================================\n",
      "Imagem: chargeBranco.png\n",
      "Top 3 predições:\n",
      "  1º: charge (Confiança: 0.287)\n",
      "  2º: chokito (Confiança: 0.168)\n",
      "  3º: amor_carioca (Confiança: 0.133)\n",
      "\n",
      "==================================================\n",
      "Imagem: chokitoBranco.png\n",
      "Top 3 predições:\n",
      "  1º: chokito (Confiança: 0.341)\n",
      "  2º: amor_carioca (Confiança: 0.185)\n",
      "  3º: smash (Confiança: 0.169)\n",
      "\n",
      "==================================================\n",
      "Imagem: galakBranco.png\n",
      "Top 3 predições:\n",
      "  1º: alpino (Confiança: 0.286)\n",
      "  2º: chokito (Confiança: 0.210)\n",
      "  3º: charge (Confiança: 0.153)\n",
      "\n",
      "==================================================\n",
      "Imagem: lolloBranco.png\n",
      "Top 3 predições:\n",
      "  1º: negresco (Confiança: 0.255)\n",
      "  2º: charge (Confiança: 0.158)\n",
      "  3º: lollo (Confiança: 0.145)\n",
      "\n",
      "==================================================\n",
      "Imagem: negrescoBranco.png\n",
      "Top 3 predições:\n",
      "  1º: charge (Confiança: 0.275)\n",
      "  2º: negresco (Confiança: 0.151)\n",
      "  3º: chokito (Confiança: 0.134)\n",
      "\n",
      "==================================================\n",
      "Imagem: smashBranco.png\n",
      "Top 3 predições:\n",
      "  1º: amor_carioca (Confiança: 0.420)\n",
      "  2º: chokito (Confiança: 0.216)\n",
      "  3º: smash (Confiança: 0.184)\n",
      "\n"
     ]
    }
   ],
   "source": [
    "# Função modificada para mostrar top 3 predições\n",
    "def test_image_top3(image_path):\n",
    "    \"\"\"Testa uma imagem e mostra os 3 resultados mais prováveis\"\"\"\n",
    "    \n",
    "    # Usar modelos já carregados\n",
    "    model = rf_model\n",
    "    encoder = label_encoder\n",
    "    extractor = FeatureExtractor()\n",
    "    \n",
    "    # Fazer predição\n",
    "    features = extractor.extract_features(image_path)\n",
    "    \n",
    "    if features is not None:\n",
    "        features = features.reshape(1, -1)\n",
    "        probabilities = model.predict_proba(features)[0]\n",
    "        \n",
    "        # Obter top 3 predições\n",
    "        top3_indices = probabilities.argsort()[-3:][::-1]  # 3 maiores em ordem decrescente\n",
    "        \n",
    "        print(f\"Imagem: {Path(image_path).name}\")\n",
    "        print(\"Top 3 predições:\")\n",
    "        for i, idx in enumerate(top3_indices, 1):\n",
    "            class_name = encoder.inverse_transform([idx])[0]\n",
    "            confidence = probabilities[idx]\n",
    "            print(f\"  {i}º: {class_name} (Confiança: {confidence:.3f})\")\n",
    "    else:\n",
    "        print(f\"Erro ao processar a imagem: {Path(image_path).name}\")\n",
    "\n",
    "# Caminho da pasta\n",
    "images_folder = Path(\"imagens\")\n",
    "\n",
    "# Verificar se a pasta existe\n",
    "if not images_folder.exists():\n",
    "    print(f\"Erro: Pasta '{images_folder}' não encontrada!\")\n",
    "else:\n",
    "    # Listar todas as imagens\n",
    "    image_extensions = ['*.jpg', '*.jpeg', '*.png', '*.bmp', '*.tiff']\n",
    "    image_files = []\n",
    "    \n",
    "    for ext in image_extensions:\n",
    "        image_files.extend(list(images_folder.glob(ext)))\n",
    "    \n",
    "    if not image_files:\n",
    "        print(f\"Nenhuma imagem encontrada na pasta '{images_folder}'!\")\n",
    "    else:\n",
    "        print(f\"Processando {len(image_files)} imagens...\\n\")\n",
    "        \n",
    "        # Processar cada imagem\n",
    "        for image_path in image_files:\n",
    "            print(f\"{'='*50}\")\n",
    "            test_image_top3(str(image_path))\n",
    "            print()"
   ]
  }
 ],
 "metadata": {
  "kernelspec": {
   "display_name": "Python 3 (ipykernel)",
   "language": "python",
   "name": "python3"
  },
  "language_info": {
   "codemirror_mode": {
    "name": "ipython",
    "version": 3
   },
   "file_extension": ".py",
   "mimetype": "text/x-python",
   "name": "python",
   "nbconvert_exporter": "python",
   "pygments_lexer": "ipython3",
   "version": "3.12.2"
  }
 },
 "nbformat": 4,
 "nbformat_minor": 5
}
